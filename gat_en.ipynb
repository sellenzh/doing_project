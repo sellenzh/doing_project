{
 "cells": [
  {
   "cell_type": "code",
   "execution_count": 1,
   "metadata": {},
   "outputs": [
    {
     "name": "stderr",
     "output_type": "stream",
     "text": [
      "/Users/sellenz/opt/anaconda3/envs/sellenz/lib/python3.10/site-packages/tqdm/auto.py:22: TqdmWarning: IProgress not found. Please update jupyter and ipywidgets. See https://ipywidgets.readthedocs.io/en/stable/user_install.html\n",
      "  from .autonotebook import tqdm as notebook_tqdm\n"
     ]
    }
   ],
   "source": [
    "from encoder_module import GraphEncoder\n",
    "import torch\n",
    "from torch import nn\n",
    "import math"
   ]
  },
  {
   "cell_type": "code",
   "execution_count": 1,
   "metadata": {},
   "outputs": [],
   "source": [
    "\n",
    "feature_dims = 32\n",
    "num_heads = 8\n",
    "hidden_dims = 256\n",
    "attention_dropout = 0.2\n",
    "num_times = 2\n"
   ]
  },
  {
   "cell_type": "code",
   "execution_count": 3,
   "metadata": {},
   "outputs": [
    {
     "name": "stdout",
     "output_type": "stream",
     "text": [
      "Mish avtivation loaded...\n",
      "Mish avtivation loaded...\n"
     ]
    }
   ],
   "source": [
    "gat_en = nn.ModuleList(GraphEncoder(feature_dims,\n",
    "            num_heads, hidden_dims, attention_dropout) for _ in range(num_times))\n",
    "gat_de = nn.ModuleList(nn.Sequential(nn.Linear(feature_dims, feature_dims)) for _ in range(num_times))"
   ]
  },
  {
   "cell_type": "code",
   "execution_count": 4,
   "metadata": {},
   "outputs": [
    {
     "name": "stdout",
     "output_type": "stream",
     "text": [
      "torch.Size([3, 3, 3, 3])\n",
      "torch.Size([3, 3, 3, 3])\n"
     ]
    },
    {
     "data": {
      "text/plain": [
       "torch.Size([3, 3, 3, 6])"
      ]
     },
     "execution_count": 4,
     "metadata": {},
     "output_type": "execute_result"
    }
   ],
   "source": [
    "import torch\n",
    "h = torch.randn(size=(3, 3, 3))\n",
    "hi = h.unsqueeze(2).repeat(1, 1, h.size(1), 1)\n",
    "print(hi.shape)\n",
    "hj = h.unsqueeze(1).repeat(1, h.size(1), 1, 1)\n",
    "print(hj.shape)\n",
    "hij = torch.cat((hi, hj), dim=-1)\n",
    "hij.shape\n",
    "\n",
    "#a = torch.cat((a1, a2), dim=-1)\n",
    "#a.shape"
   ]
  },
  {
   "cell_type": "code",
   "execution_count": 1,
   "metadata": {},
   "outputs": [
    {
     "name": "stdout",
     "output_type": "stream",
     "text": [
      "torch.Size([2, 4, 62, 19])\n"
     ]
    },
    {
     "name": "stderr",
     "output_type": "stream",
     "text": [
      "/Users/sellenz/opt/anaconda3/envs/sellenz/lib/python3.10/site-packages/tqdm/auto.py:22: TqdmWarning: IProgress not found. Please update jupyter and ipywidgets. See https://ipywidgets.readthedocs.io/en/stable/user_install.html\n",
      "  from .autonotebook import tqdm as notebook_tqdm\n"
     ]
    }
   ],
   "source": [
    "import torch\n",
    "t = torch.randn(size=(2, 4, 62, 19))\n",
    "print(t.shape)"
   ]
  },
  {
   "cell_type": "code",
   "execution_count": 2,
   "metadata": {},
   "outputs": [
    {
     "name": "stdout",
     "output_type": "stream",
     "text": [
      "Mish avtivation loaded...\n",
      "Mish avtivation loaded...\n"
     ]
    }
   ],
   "source": [
    "gat_en = nn.ModuleList(GraphEncoder(64, 8, 256, 'v2', 0.2) for _ in range(2))"
   ]
  },
  {
   "cell_type": "code",
   "execution_count": 4,
   "metadata": {},
   "outputs": [],
   "source": [
    "t = torch.randn(size=(124, 19, 64))\n",
    "for gat in gat_en:\n",
    "    gat_out = gat(t, adj=t)"
   ]
  },
  {
   "cell_type": "code",
   "execution_count": 5,
   "metadata": {},
   "outputs": [
    {
     "data": {
      "text/plain": [
       "torch.Size([2, 62, 19, 19, 4])"
      ]
     },
     "execution_count": 5,
     "metadata": {},
     "output_type": "execute_result"
    }
   ],
   "source": [
    "pose = torch.randn(size=(2, 62, 19, 4))\n",
    "bias_pre = pose.unsqueeze(2) - pose.unsqueeze(3)\n",
    "bias_pre.shape"
   ]
  }
 ],
 "metadata": {
  "kernelspec": {
   "display_name": "Python 3.10.5 ('sellenz')",
   "language": "python",
   "name": "python3"
  },
  "language_info": {
   "codemirror_mode": {
    "name": "ipython",
    "version": 3
   },
   "file_extension": ".py",
   "mimetype": "text/x-python",
   "name": "python",
   "nbconvert_exporter": "python",
   "pygments_lexer": "ipython3",
   "version": "3.10.5"
  },
  "orig_nbformat": 4,
  "vscode": {
   "interpreter": {
    "hash": "33f889c6c7ce24418305da840b83e9dec729124ebf185df688fed5e1c829f8f0"
   }
  }
 },
 "nbformat": 4,
 "nbformat_minor": 2
}
